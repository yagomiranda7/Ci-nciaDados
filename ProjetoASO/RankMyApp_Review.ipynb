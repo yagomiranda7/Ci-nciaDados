{
 "cells": [
  {
   "cell_type": "markdown",
   "metadata": {},
   "source": [
    "# B4 BANK - Project ASO"
   ]
  },
  {
   "cell_type": "markdown",
   "metadata": {},
   "source": [
    "* Projeto contratado pelo B4 BANK com a RankMyApp para avaliação do aplicativo nas métricas do Canal Orgânico"
   ]
  },
  {
   "cell_type": "markdown",
   "metadata": {},
   "source": [
    "### Importar dados"
   ]
  },
  {
   "cell_type": "code",
   "execution_count": 84,
   "metadata": {},
   "outputs": [],
   "source": [
    "import pandas as pd\n",
    "import numpy as np\n",
    "import matplotlib.pyplot as plt\n",
    "import seaborn as sns\n",
    "%matplotlib inline\n",
    "\n",
    "\n",
    "\n",
    "df = pd.read_csv(r\"C:\\Users\\asus\\Downloads\\Reviews_Bank.csv\", sep=';', header=0, encoding='latin-1')"
   ]
  },
  {
   "cell_type": "markdown",
   "metadata": {},
   "source": [
    "## Análise Exploratória de Dados e Manipulação dos Dados"
   ]
  },
  {
   "cell_type": "code",
   "execution_count": 85,
   "metadata": {},
   "outputs": [
    {
     "name": "stdout",
     "output_type": "stream",
     "text": [
      "DIMENSÕES DO DATAFRAME:\n",
      "Linhas:\t\t5679\n",
      "Colunas:\t9\n"
     ]
    }
   ],
   "source": [
    "# dimensões do df\n",
    "print(\"DIMENSÕES DO DATAFRAME:\")\n",
    "print(\"Linhas:\\t\\t{}\".format(df.shape[0]))\n",
    "print(\"Colunas:\\t{}\".format(df.shape[1]))"
   ]
  },
  {
   "cell_type": "markdown",
   "metadata": {},
   "source": [
    "As primeiras 5 entradas desse conjunto de dados permitem adquirirmos uma noção inicial sobre o tipo de formato, exemplos de entrada e formulação das hipóteses iniciais do processo investigativo."
   ]
  },
  {
   "cell_type": "code",
   "execution_count": 86,
   "metadata": {},
   "outputs": [
    {
     "data": {
      "text/html": [
       "<div>\n",
       "<style scoped>\n",
       "    .dataframe tbody tr th:only-of-type {\n",
       "        vertical-align: middle;\n",
       "    }\n",
       "\n",
       "    .dataframe tbody tr th {\n",
       "        vertical-align: top;\n",
       "    }\n",
       "\n",
       "    .dataframe thead th {\n",
       "        text-align: right;\n",
       "    }\n",
       "</style>\n",
       "<table border=\"1\" class=\"dataframe\">\n",
       "  <thead>\n",
       "    <tr style=\"text-align: right;\">\n",
       "      <th></th>\n",
       "      <th>Package Name</th>\n",
       "      <th>App Version Name</th>\n",
       "      <th>Reviewer Language</th>\n",
       "      <th>Device</th>\n",
       "      <th>Review Last Update Date and Time</th>\n",
       "      <th>Star Rating</th>\n",
       "      <th>Review Title</th>\n",
       "      <th>Review Text</th>\n",
       "      <th>Sentiment</th>\n",
       "    </tr>\n",
       "  </thead>\n",
       "  <tbody>\n",
       "    <tr>\n",
       "      <th>0</th>\n",
       "      <td>B4 Bank</td>\n",
       "      <td>6.10.6</td>\n",
       "      <td>pt</td>\n",
       "      <td>greatlte</td>\n",
       "      <td>2019-10-01T00:09:07Z</td>\n",
       "      <td>5</td>\n",
       "      <td>NaN</td>\n",
       "      <td>NaN</td>\n",
       "      <td>Positive</td>\n",
       "    </tr>\n",
       "    <tr>\n",
       "      <th>1</th>\n",
       "      <td>B4 Bank</td>\n",
       "      <td>6.10.6</td>\n",
       "      <td>pt</td>\n",
       "      <td>mido</td>\n",
       "      <td>2019-10-01T00:18:49Z</td>\n",
       "      <td>5</td>\n",
       "      <td>NaN</td>\n",
       "      <td>NaN</td>\n",
       "      <td>Positive</td>\n",
       "    </tr>\n",
       "    <tr>\n",
       "      <th>2</th>\n",
       "      <td>B4 Bank</td>\n",
       "      <td>6.10.6</td>\n",
       "      <td>pt</td>\n",
       "      <td>on5xelte</td>\n",
       "      <td>2019-10-01T00:34:35Z</td>\n",
       "      <td>5</td>\n",
       "      <td>NaN</td>\n",
       "      <td>Boa</td>\n",
       "      <td>Positive</td>\n",
       "    </tr>\n",
       "    <tr>\n",
       "      <th>3</th>\n",
       "      <td>B4 Bank</td>\n",
       "      <td>6.10.6</td>\n",
       "      <td>pt</td>\n",
       "      <td>dreamlte</td>\n",
       "      <td>2019-10-01T00:44:18Z</td>\n",
       "      <td>2</td>\n",
       "      <td>NaN</td>\n",
       "      <td>Não consigo gerar a fatura em PDF, no mesmo fo...</td>\n",
       "      <td>Negative</td>\n",
       "    </tr>\n",
       "    <tr>\n",
       "      <th>4</th>\n",
       "      <td>B4 Bank</td>\n",
       "      <td>6.10.6</td>\n",
       "      <td>pt</td>\n",
       "      <td>starqltechn</td>\n",
       "      <td>2019-10-01T01:09:56Z</td>\n",
       "      <td>4</td>\n",
       "      <td>NaN</td>\n",
       "      <td>NaN</td>\n",
       "      <td>Positive</td>\n",
       "    </tr>\n",
       "  </tbody>\n",
       "</table>\n",
       "</div>"
      ],
      "text/plain": [
       "  Package Name App Version Name Reviewer Language       Device  \\\n",
       "0      B4 Bank           6.10.6                pt     greatlte   \n",
       "1      B4 Bank           6.10.6                pt         mido   \n",
       "2      B4 Bank           6.10.6                pt     on5xelte   \n",
       "3      B4 Bank           6.10.6                pt     dreamlte   \n",
       "4      B4 Bank           6.10.6                pt  starqltechn   \n",
       "\n",
       "  Review Last Update Date and Time  Star Rating Review Title  \\\n",
       "0             2019-10-01T00:09:07Z            5          NaN   \n",
       "1             2019-10-01T00:18:49Z            5          NaN   \n",
       "2             2019-10-01T00:34:35Z            5          NaN   \n",
       "3             2019-10-01T00:44:18Z            2          NaN   \n",
       "4             2019-10-01T01:09:56Z            4          NaN   \n",
       "\n",
       "                                         Review Text Sentiment  \n",
       "0                                                NaN  Positive  \n",
       "1                                                NaN  Positive  \n",
       "2                                                Boa  Positive  \n",
       "3  Não consigo gerar a fatura em PDF, no mesmo fo...  Negative  \n",
       "4                                                NaN  Positive  "
      ]
     },
     "execution_count": 86,
     "metadata": {},
     "output_type": "execute_result"
    }
   ],
   "source": [
    "df.head()"
   ]
  },
  {
   "cell_type": "markdown",
   "metadata": {},
   "source": [
    "É interessante pôr _ nos espaços dos títulos das colunas"
   ]
  },
  {
   "cell_type": "code",
   "execution_count": 87,
   "metadata": {},
   "outputs": [],
   "source": [
    "df.columns = [c.replace(' ', '_') for c in df.columns]"
   ]
  },
  {
   "cell_type": "code",
   "execution_count": 88,
   "metadata": {},
   "outputs": [
    {
     "name": "stdout",
     "output_type": "stream",
     "text": [
      "\n",
      "TIPOS DAS VARIÁVEIS:\n",
      "Package_Name                        object\n",
      "App_Version_Name                    object\n",
      "Reviewer_Language                   object\n",
      "Device                              object\n",
      "Review_Last_Update_Date_and_Time    object\n",
      "Star_Rating                          int64\n",
      "Review_Title                        object\n",
      "Review_Text                         object\n",
      "Sentiment                           object\n",
      "dtype: object\n"
     ]
    }
   ],
   "source": [
    "# tipo das variáveis\n",
    "print(\"\\nTIPOS DAS VARIÁVEIS:\")\n",
    "print(df.dtypes)"
   ]
  },
  {
   "cell_type": "markdown",
   "metadata": {},
   "source": [
    "Se faz necessário alterar o tipo da coluna Date para o tipo DateTime\n",
    "Para isso vamos modifcar a coluna, pegando a data da mesma antes de fazer a mudança do tipo."
   ]
  },
  {
   "cell_type": "code",
   "execution_count": 89,
   "metadata": {},
   "outputs": [],
   "source": [
    "df['Review_Last_Update_Date_and_Time'] = df['Review_Last_Update_Date_and_Time'].apply(lambda x: x[0:10])"
   ]
  },
  {
   "cell_type": "code",
   "execution_count": 90,
   "metadata": {},
   "outputs": [],
   "source": [
    "df['Review_Last_Update_Date_and_Time'] = pd.to_datetime(df['Review_Last_Update_Date_and_Time'], format='%Y-%m-%d', dayfirst=True, errors='coerce')"
   ]
  },
  {
   "cell_type": "code",
   "execution_count": 91,
   "metadata": {},
   "outputs": [
    {
     "name": "stdout",
     "output_type": "stream",
     "text": [
      "\n",
      "VALORES AUSENTES:\n",
      "Review_Title                        0.999824\n",
      "Sentiment                           0.748547\n",
      "Review_Text                         0.514703\n",
      "App_Version_Name                    0.045078\n",
      "Device                              0.001057\n",
      "Star_Rating                         0.000000\n",
      "Review_Last_Update_Date_and_Time    0.000000\n",
      "Reviewer_Language                   0.000000\n",
      "Package_Name                        0.000000\n",
      "dtype: float64\n"
     ]
    }
   ],
   "source": [
    "# valores ausentes\n",
    "print(\"\\nVALORES AUSENTES:\")\n",
    "print((df.isnull().sum() / df.shape[0]).sort_values(ascending=False))"
   ]
  },
  {
   "cell_type": "markdown",
   "metadata": {},
   "source": [
    "* A coluna Review Title está praticamente zerada, é coerente não utizá-la nas análises.\n",
    "* Com relação ao Sentimento, será feito um preenchimento baseado em uma condição no rating, o Review Text onde não há preenchimento será considerado um comentário vazio.\n",
    "* Para Device e App_Version Name, o preenchimento dos vazios se dará por meio do valor que mais aparece para cada coluna."
   ]
  },
  {
   "cell_type": "code",
   "execution_count": 92,
   "metadata": {},
   "outputs": [],
   "source": [
    "df = df.drop('Review_Title', 1)"
   ]
  },
  {
   "cell_type": "code",
   "execution_count": 93,
   "metadata": {},
   "outputs": [],
   "source": [
    "df['Review_Text'] = df['Review_Text'].fillna('')\n"
   ]
  },
  {
   "cell_type": "code",
   "execution_count": 94,
   "metadata": {},
   "outputs": [],
   "source": [
    "df.loc[df['Sentiment'].isnull() & df['Star_Rating'].isin([1,2]), 'Sentiment'] = 'Negative'\n",
    "df.loc[df['Sentiment'].isnull() & df['Star_Rating'].isin([3]), 'Sentiment'] = 'Neutral'\n",
    "df.loc[df['Sentiment'].isnull() & df['Star_Rating'].isin([4,5]), 'Sentiment'] = 'Positive'"
   ]
  },
  {
   "cell_type": "code",
   "execution_count": 95,
   "metadata": {},
   "outputs": [],
   "source": [
    "df['Device'].fillna(df['Device'].mode()[0], inplace=True)\n",
    "df['App_Version_Name'].fillna(df['App_Version_Name'].mode()[0], inplace=True)"
   ]
  },
  {
   "cell_type": "code",
   "execution_count": 96,
   "metadata": {},
   "outputs": [
    {
     "name": "stdout",
     "output_type": "stream",
     "text": [
      "\n",
      "VALORES AUSENTES:\n",
      "Sentiment                           0.0\n",
      "Review_Text                         0.0\n",
      "Star_Rating                         0.0\n",
      "Review_Last_Update_Date_and_Time    0.0\n",
      "Device                              0.0\n",
      "Reviewer_Language                   0.0\n",
      "App_Version_Name                    0.0\n",
      "Package_Name                        0.0\n",
      "dtype: float64\n"
     ]
    }
   ],
   "source": [
    "print(\"\\nVALORES AUSENTES:\")\n",
    "print((df.isnull().sum() / df.shape[0]).sort_values(ascending=False))"
   ]
  },
  {
   "cell_type": "markdown",
   "metadata": {},
   "source": [
    "Todos os valores preenchidos agora"
   ]
  },
  {
   "cell_type": "markdown",
   "metadata": {},
   "source": [
    "Criação de uma coluna de mês, será interessante para agrupamento"
   ]
  },
  {
   "cell_type": "code",
   "execution_count": 97,
   "metadata": {},
   "outputs": [],
   "source": [
    "df['Month'] = df['Review_Last_Update_Date_and_Time'].dt.month"
   ]
  },
  {
   "cell_type": "markdown",
   "metadata": {},
   "source": [
    "Visualização da média do Rating por mês"
   ]
  },
  {
   "cell_type": "code",
   "execution_count": 98,
   "metadata": {},
   "outputs": [
    {
     "data": {
      "text/html": [
       "<div>\n",
       "<style scoped>\n",
       "    .dataframe tbody tr th:only-of-type {\n",
       "        vertical-align: middle;\n",
       "    }\n",
       "\n",
       "    .dataframe tbody tr th {\n",
       "        vertical-align: top;\n",
       "    }\n",
       "\n",
       "    .dataframe thead th {\n",
       "        text-align: right;\n",
       "    }\n",
       "</style>\n",
       "<table border=\"1\" class=\"dataframe\">\n",
       "  <thead>\n",
       "    <tr style=\"text-align: right;\">\n",
       "      <th></th>\n",
       "      <th>Month</th>\n",
       "      <th>Star_Rating</th>\n",
       "    </tr>\n",
       "  </thead>\n",
       "  <tbody>\n",
       "    <tr>\n",
       "      <th>0</th>\n",
       "      <td>8</td>\n",
       "      <td>4.398776</td>\n",
       "    </tr>\n",
       "    <tr>\n",
       "      <th>1</th>\n",
       "      <td>9</td>\n",
       "      <td>4.386460</td>\n",
       "    </tr>\n",
       "    <tr>\n",
       "      <th>2</th>\n",
       "      <td>10</td>\n",
       "      <td>4.415966</td>\n",
       "    </tr>\n",
       "  </tbody>\n",
       "</table>\n",
       "</div>"
      ],
      "text/plain": [
       "   Month  Star_Rating\n",
       "0      8     4.398776\n",
       "1      9     4.386460\n",
       "2     10     4.415966"
      ]
     },
     "execution_count": 98,
     "metadata": {},
     "output_type": "execute_result"
    }
   ],
   "source": [
    "df.groupby(['Month'])['Star_Rating'].mean().reset_index()\n",
    "\n"
   ]
  },
  {
   "cell_type": "markdown",
   "metadata": {},
   "source": [
    "Criação de gráficos de barras de quantidades para as colunas de Rating e Sentimento"
   ]
  },
  {
   "cell_type": "code",
   "execution_count": 99,
   "metadata": {},
   "outputs": [
    {
     "data": {
      "image/png": "[encoded data removed]",
      "text/plain": [
       "<Figure size 360x360 with 1 Axes>"
      ]
     },
     "metadata": {
      "needs_background": "light"
     },
     "output_type": "display_data"
    },
    {
     "data": {
      "image/png": "[encoded data removed]",
      "text/plain": [
       "<Figure size 360x360 with 1 Axes>"
      ]
     },
     "metadata": {
      "needs_background": "light"
     },
     "output_type": "display_data"
    }
   ],
   "source": [
    "sns.catplot(x=\"Star_Rating\", kind='count', data=df);\n",
    "sns.catplot(x=\"Sentiment\", kind='count', data=df);\n",
    "\n"
   ]
  },
  {
   "cell_type": "markdown",
   "metadata": {},
   "source": [
    "É possível perceber apenas pela visualização gráfica que o aplicativo vem desempenhando uma boa avaliação junto ao usuários."
   ]
  },
  {
   "cell_type": "markdown",
   "metadata": {},
   "source": [
    "Transformação de todas as palavras da coluna de comentário em minúscula."
   ]
  },
  {
   "cell_type": "code",
   "execution_count": 157,
   "metadata": {},
   "outputs": [],
   "source": [
    "df[\"Review_Text\"] = df[\"Review_Text\"].apply(lambda x: x.lower())"
   ]
  },
  {
   "cell_type": "markdown",
   "metadata": {},
   "source": [
    "Vamos agora retirar as 'stopwords' para então criar um dataframe com as palavras mais comentadas seção de comentários do app"
   ]
  },
  {
   "cell_type": "code",
   "execution_count": 158,
   "metadata": {},
   "outputs": [],
   "source": [
    "stopwords=['de','e','o','a','que','do','para','sem','não','se','no','com','O','da','é','na','da','tem','em','os','por','está',\n",
    "          'nao','pra','me','A','mais','mas','um','uma','as']\n",
    "\n",
    "for word in stopwords:\n",
    "    if word in df[\"Review_Text\"]:\n",
    "        print(word)\n",
    "        df[\"Review_Text\"]=df[\"Review_Text\"].replace(word,\"\")"
   ]
  },
  {
   "cell_type": "code",
   "execution_count": 159,
   "metadata": {},
   "outputs": [
    {
     "name": "stdout",
     "output_type": "stream",
     "text": [
      "[('muito', 778), ('app', 364), ('bom', 298), ('aplicativo', 225), ('fácil', 179), ('b4', 155), ('prático', 146), ('excelente', 133), ('ótimo', 128), ('consigo', 109), ('fazer', 109), ('boa', 107), ('sempre', 102), ('banco', 90), ('funciona', 88), ('tudo', 85), ('cartão', 83), ('bank', 81), ('usar', 79), ('eu', 78), ('quando', 77), ('vezes', 75), ('melhor', 74), ('bem', 74), ('ser', 72), ('ao', 70), ('como', 69), ('minha', 68), ('já', 68), ('rápido', 67), ('pelo', 65), ('ou', 65), ('lento', 63), ('só', 61), ('atualização', 58), ('conta', 55), ('bom.', 55), ('ele', 54), ('app.', 54), ('tenho', 53), ('mesmo', 52), ('ter', 51), ('opção', 50), ('bom,', 50), ('pagamento', 50), ('meu', 49), ('foi', 49), ('vez', 48), ('estou', 48), ('código', 48), ('até', 46), ('aplicativo.', 44), ('dos', 43), ('uso', 43), ('dia', 43), ('trava', 43), ('falta', 43), ('pagar', 42), ('otimo', 42), ('atualizar', 40), ('ir', 40), ('fica', 39), ('cada', 39), ('senha', 38), ('todas', 38), ('toda', 38), ('depois', 38), ('este', 37), ('problema', 37), ('acessar', 36), ('gosto', 36), ('ótima', 36)]\n"
     ]
    }
   ],
   "source": [
    "from collections import Counter\n",
    "common = Counter(\" \".join(df[\"Review_Text\"]).split()).most_common(100)\n",
    "print(list(filter(lambda x: x[0] not in stopwords, common)))\n"
   ]
  },
  {
   "cell_type": "markdown",
   "metadata": {},
   "source": [
    "Lista de palavras mais comentadas, e abaixo dela um gráfico com as oito mais comentadas."
   ]
  },
  {
   "cell_type": "code",
   "execution_count": 163,
   "metadata": {},
   "outputs": [
    {
     "data": {
      "text/html": [
       "<div>\n",
       "<style scoped>\n",
       "    .dataframe tbody tr th:only-of-type {\n",
       "        vertical-align: middle;\n",
       "    }\n",
       "\n",
       "    .dataframe tbody tr th {\n",
       "        vertical-align: top;\n",
       "    }\n",
       "\n",
       "    .dataframe thead th {\n",
       "        text-align: right;\n",
       "    }\n",
       "</style>\n",
       "<table border=\"1\" class=\"dataframe\">\n",
       "  <thead>\n",
       "    <tr style=\"text-align: right;\">\n",
       "      <th></th>\n",
       "      <th>Palavra</th>\n",
       "      <th>Repeticao</th>\n",
       "    </tr>\n",
       "  </thead>\n",
       "  <tbody>\n",
       "    <tr>\n",
       "      <th>0</th>\n",
       "      <td>muito</td>\n",
       "      <td>778</td>\n",
       "    </tr>\n",
       "    <tr>\n",
       "      <th>1</th>\n",
       "      <td>app</td>\n",
       "      <td>364</td>\n",
       "    </tr>\n",
       "    <tr>\n",
       "      <th>2</th>\n",
       "      <td>bom</td>\n",
       "      <td>298</td>\n",
       "    </tr>\n",
       "    <tr>\n",
       "      <th>3</th>\n",
       "      <td>aplicativo</td>\n",
       "      <td>225</td>\n",
       "    </tr>\n",
       "    <tr>\n",
       "      <th>4</th>\n",
       "      <td>fácil</td>\n",
       "      <td>179</td>\n",
       "    </tr>\n",
       "    <tr>\n",
       "      <th>5</th>\n",
       "      <td>b4</td>\n",
       "      <td>155</td>\n",
       "    </tr>\n",
       "    <tr>\n",
       "      <th>6</th>\n",
       "      <td>prático</td>\n",
       "      <td>146</td>\n",
       "    </tr>\n",
       "    <tr>\n",
       "      <th>7</th>\n",
       "      <td>excelente</td>\n",
       "      <td>133</td>\n",
       "    </tr>\n",
       "  </tbody>\n",
       "</table>\n",
       "</div>"
      ],
      "text/plain": [
       "      Palavra  Repeticao\n",
       "0       muito        778\n",
       "1         app        364\n",
       "2         bom        298\n",
       "3  aplicativo        225\n",
       "4       fácil        179\n",
       "5          b4        155\n",
       "6     prático        146\n",
       "7   excelente        133"
      ]
     },
     "execution_count": 163,
     "metadata": {},
     "output_type": "execute_result"
    }
   ],
   "source": [
    "common=list(filter(lambda x: x[0] not in stopwords, common))\n",
    "df_word = pd.DataFrame(common, columns=['Palavra','Repeticao'])\n",
    "df_word.head(8)"
   ]
  },
  {
   "cell_type": "code",
   "execution_count": 162,
   "metadata": {},
   "outputs": [
    {
     "data": {
      "image/png": "[encoded data removed]",
      "text/plain": [
       "<Figure size 432x288 with 1 Axes>"
      ]
     },
     "metadata": {
      "needs_background": "light"
     },
     "output_type": "display_data"
    }
   ],
   "source": [
    "ax = df_word.head(8).plot.bar(x='Palavra', y='Repeticao', rot=0)\n"
   ]
  }
 ],
 "metadata": {
  "kernelspec": {
   "display_name": "Python 3",
   "language": "python",
   "name": "python3"
  },
  "language_info": {
   "codemirror_mode": {
    "name": "ipython",
    "version": 3
   },
   "file_extension": ".py",
   "mimetype": "text/x-python",
   "name": "python",
   "nbconvert_exporter": "python",
   "pygments_lexer": "ipython3",
   "version": "3.8.5"
  }
 },
 "nbformat": 4,
 "nbformat_minor": 4
}
