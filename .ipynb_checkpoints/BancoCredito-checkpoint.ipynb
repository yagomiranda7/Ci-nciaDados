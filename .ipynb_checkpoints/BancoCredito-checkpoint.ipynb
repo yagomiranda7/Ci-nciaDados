{
 "cells": [
  {
   "cell_type": "markdown",
   "metadata": {},
   "source": [
    "## Consultoria Financeira - Análise de Crédito BACEN"
   ]
  },
  {
   "cell_type": "code",
   "execution_count": 8,
   "metadata": {},
   "outputs": [],
   "source": [
    "import pandas as pd\n",
    "import numpy as np"
   ]
  },
  {
   "cell_type": "markdown",
   "metadata": {},
   "source": [
    "### Início do Balancete"
   ]
  },
  {
   "cell_type": "markdown",
   "metadata": {},
   "source": [
    "* Leitura do Balancete gerado pela instituição financeira em CSV."
   ]
  },
  {
   "cell_type": "code",
   "execution_count": null,
   "metadata": {},
   "outputs": [],
   "source": [
    "dfbalan=pd.read_csv(r'C:\\Users\\YAGUIAR\\Desktop\\Balancete_Teste.csv', header=0, sep=';')"
   ]
  },
  {
   "cell_type": "markdown",
   "metadata": {},
   "source": [
    "* Retirada de caracteres especiais."
   ]
  },
  {
   "cell_type": "code",
   "execution_count": null,
   "metadata": {},
   "outputs": [],
   "source": [
    "dfbalan['Conta']= dfbalan['Conta'].str.replace('.', '')\n",
    "dfbalan['Conta']= dfbalan['Conta'].str.replace('-', '')\n",
    "dfbalan['Saldo']= dfbalan['Saldo'].str.replace(',', '.')"
   ]
  },
  {
   "cell_type": "markdown",
   "metadata": {},
   "source": [
    "* Alteração de Tipo."
   ]
  },
  {
   "cell_type": "code",
   "execution_count": null,
   "metadata": {},
   "outputs": [],
   "source": [
    "dfbalan['Saldo']=dfbalan['Saldo'].astype(float)"
   ]
  },
  {
   "cell_type": "markdown",
   "metadata": {},
   "source": [
    "* Feature Engineering para formato padrão."
   ]
  },
  {
   "cell_type": "code",
   "execution_count": null,
   "metadata": {},
   "outputs": [],
   "source": [
    "dfbalan['ContaR']=dfbalan['Conta'].apply(lambda x: x[0:4])\n",
    "dfbalan['Competencia2']=dfbalan['Competencia'].apply(lambda x: x[6:10]+'-'+x[3:5])"
   ]
  },
  {
   "cell_type": "markdown",
   "metadata": {},
   "source": [
    "* Criação da chave e sumarização do saldo pela mesma."
   ]
  },
  {
   "cell_type": "code",
   "execution_count": null,
   "metadata": {},
   "outputs": [],
   "source": [
    "dfbalan['Chave']=dfbalan['Rating']+dfbalan['Competencia2']\n",
    "dfbalan2=dfbalan.groupby('Chave')['Saldo'].sum().reset_index()"
   ]
  },
  {
   "cell_type": "markdown",
   "metadata": {},
   "source": [
    "### Início da CADOC\n"
   ]
  },
  {
   "cell_type": "markdown",
   "metadata": {},
   "source": [
    "* Leitura do CADOC 3040 (Banco Central)."
   ]
  },
  {
   "cell_type": "markdown",
   "metadata": {},
   "source": [
    "* Arquivo muito grande (20GB), logo a leitura foi feita utilizando o chunksize, e trazendo só as colunas que seriam de fato utilizadas."
   ]
  },
  {
   "cell_type": "code",
   "execution_count": null,
   "metadata": {},
   "outputs": [],
   "source": [
    "#Criação de um DataFrame vazio para a futura concatenação dos chunks\n",
    "dftotal=pd.DataFrame()\n",
    "\n",
    "df = pd.read_csv(r'C:/Users/YAGUIAR/Desktop/BACEN_3040_20210403213904_1/04MAI2021_2.csv', chunksize=100000, dtype='object', sep='|', header=0, usecols=['Venc_v110','Venc_v120','Venc_v130','Venc_v140','Venc_v150','Venc_v160',\n",
    "    'Venc_v165','Venc_v170','Venc_v175','Venc_v180','Venc_v190','Venc_v199','Venc_v205','Venc_v210','Venc_v220',\n",
    "    'Venc_v230', 'Venc_v240', 'Venc_v245','Venc_v250','Venc_v255','Venc_v260','Venc_v270','Venc_v280',\n",
    "    'Venc_v290','Venc_v310','Venc_v320','Venc_v330','Cli_Cd','Op_Contrt','Op_Mod','Op_ProvConsttd','Doc3040_DtBase','Op_ClassOp','Op_DiaAtraso','Op_NatuOp','Op_CaracEspecial']) \n",
    "for f in df:\n",
    "    df = pd.DataFrame(f)\n",
    "    \n",
    "    \n",
    "    #Transformaçao da coluna de operação para o padrão\n",
    "    df['Op_Mod_2']=df['Op_Mod'].apply(lambda x: x[0:2])\n",
    "      \n",
    "        \n",
    "    # Retirada da operação de classe HH   \n",
    "    df=df[df['Op_ClassOp']!='HH']  \n",
    "    \n",
    "    #Complemento das colunas de vencimentos vazias por 0 e alteração para o tipo float.\n",
    "    \n",
    "    df[['Venc_v110','Venc_v120','Venc_v130','Venc_v140','Venc_v150','Venc_v160',\n",
    "    'Venc_v165','Venc_v170','Venc_v175','Venc_v180','Venc_v190','Venc_v199','Venc_v205','Venc_v210','Venc_v220',\n",
    "    'Venc_v230', 'Venc_v240', 'Venc_v245','Venc_v250','Venc_v255','Venc_v260','Venc_v270','Venc_v280',\n",
    "    'Venc_v290','Venc_v310','Venc_v320','Venc_v330']] = df[['Venc_v110','Venc_v120','Venc_v130','Venc_v140','Venc_v150','Venc_v160',\n",
    "    'Venc_v165','Venc_v170','Venc_v175','Venc_v180','Venc_v190','Venc_v199','Venc_v205','Venc_v210','Venc_v220',\n",
    "    'Venc_v230', 'Venc_v240', 'Venc_v245','Venc_v250','Venc_v255','Venc_v260','Venc_v270','Venc_v280',\n",
    "    'Venc_v290','Venc_v310','Venc_v320','Venc_v330']].fillna(0)\n",
    "                                                            \n",
    "    df[['Venc_v110','Venc_v120','Venc_v130','Venc_v140','Venc_v150','Venc_v160',\n",
    "    'Venc_v165','Venc_v170','Venc_v175','Venc_v180','Venc_v190','Venc_v199','Venc_v205','Venc_v210','Venc_v220',\n",
    "    'Venc_v230', 'Venc_v240', 'Venc_v245','Venc_v250','Venc_v255','Venc_v260','Venc_v270','Venc_v280',\n",
    "    'Venc_v290','Venc_v310','Venc_v320','Venc_v330']] = df[['Venc_v110','Venc_v120','Venc_v130','Venc_v140','Venc_v150','Venc_v160',\n",
    "    'Venc_v165','Venc_v170','Venc_v175','Venc_v180','Venc_v190','Venc_v199','Venc_v205','Venc_v210','Venc_v220',\n",
    "    'Venc_v230', 'Venc_v240', 'Venc_v245','Venc_v250','Venc_v255','Venc_v260','Venc_v270','Venc_v280',\n",
    "    'Venc_v290','Venc_v310','Venc_v320','Venc_v330']].astype(float)\n",
    "    \n",
    "    # Somatorio do Saldo a Vencer\n",
    "    df['Saldo_a_Vencer'] = df['Venc_v110']+df['Venc_v120']+df['Venc_v130']+df['Venc_v140']+df['Venc_v150']\n",
    "    +df['Venc_v160']+df['Venc_v165']+df['Venc_v170']+df['Venc_v175']+df['Venc_v180']+df['Venc_v190']+df['Venc_v199']\n",
    "    \n",
    "    #Somatorio do Saldo Vencido\n",
    "    df['Saldo_Vencido']= df['Venc_v205']+df['Venc_v210']+df['Venc_v220']+df['Venc_v230']+df['Venc_v240']+df['Venc_v245']\n",
    "    +df['Venc_v250']+df['Venc_v255']+df['Venc_v260']+df['Venc_v270']+df['Venc_v280']+df['Venc_v290']\n",
    "    \n",
    "    #Sumarização dos dois tipos de Saldo pela classe e competência\n",
    "    df2 = df.groupby(['Doc3040_DtBase', 'Op_ClassOp'])['Saldo_a_Vencer','Saldo_Vencido'].sum().reset_index()\n",
    "    \n",
    "    #Saldo devedor total do cliente\n",
    "    df2['Saldo_Devedor_Total'] = df2['Saldo_a_Vencer']+df2['Saldo_Vencido']\n",
    "     \n",
    "    # Concatenação do resultado de todos os chunks    \n",
    "    dftotal=pd.concat([dftotal, df2], axis=0)"
   ]
  },
  {
   "cell_type": "markdown",
   "metadata": {},
   "source": [
    "* Criação de colunas de conta, descrição de conta feitas a partir de condições da classe da operação."
   ]
  },
  {
   "cell_type": "code",
   "execution_count": null,
   "metadata": {},
   "outputs": [],
   "source": [
    "    \n",
    "conditionlist = [\n",
    "        (dftotal['Op_ClassOp'] == 'AA'),\n",
    "        (dftotal['Op_ClassOp'] == 'A'),\n",
    "        (dftotal['Op_ClassOp'] == 'B'),\n",
    "        (dftotal['Op_ClassOp'] == 'C'),\n",
    "        (dftotal['Op_ClassOp'] == 'D'),\n",
    "        (dftotal['Op_ClassOp'] == 'E'),\n",
    "        (dftotal['Op_ClassOp'] == 'F'),\n",
    "        (dftotal['Op_ClassOp'] == 'G'),\n",
    "        (dftotal['Op_ClassOp'] == 'H') ]\n",
    "choicelist = ['3111', '3121', '3131','3141','3151','3161','3171','3181','3191']\n",
    "dftotal['Conta_Desc'] = np.select(conditionlist, choicelist, default='Not Specified')\n",
    "    \n",
    "conditionlist2 = [\n",
    "        (dftotal['Op_ClassOp'] == 'AA'),\n",
    "        (dftotal['Op_ClassOp'] == 'A'),\n",
    "        (dftotal['Op_ClassOp'] == 'B'),\n",
    "        (dftotal['Op_ClassOp'] == 'C'),\n",
    "        (dftotal['Op_ClassOp'] == 'D'),\n",
    "        (dftotal['Op_ClassOp'] == 'E'),\n",
    "        (dftotal['Op_ClassOp'] == 'F'),\n",
    "        (dftotal['Op_ClassOp'] == 'G'),\n",
    "        (dftotal['Op_ClassOp'] == 'H') ]\n",
    "choicelist2 = ['3.1.1.10.00.0', '3.1.2.10.00.3', '3.1.3.10.00.6','3.1.4.10.00.9','3.1.5.10.00.2','3.1.6.10.00.5','3.1.7.10.00.8','3.1.8.10.00.1','3.1.9.10.00.4']\n",
    "dftotal['Conta'] = np.select(conditionlist2, choicelist2, default='Not Specified')\n",
    "\n",
    "conditionlist3 = [\n",
    "        (dftotal['Conta_Desc'] == '3111'),\n",
    "        (dftotal['Conta_Desc'] == '3121'),\n",
    "        (dftotal['Conta_Desc'] == '3131'),\n",
    "        (dftotal['Conta_Desc'] == '3141'),\n",
    "        (dftotal['Conta_Desc'] == '3151'),\n",
    "        (dftotal['Conta_Desc'] == '3161'),\n",
    "        (dftotal['Conta_Desc'] == '3171'),\n",
    "        (dftotal['Conta_Desc'] == '3181'),\n",
    "        (dftotal['Conta_Desc'] == '3191') ]\n",
    "choicelist3 = ['OPERACOES DE CREDITO NIVEL AA', 'OPERACOES DE CREDITO NIVEL A', 'OPERACOES DE CREDITO NIVEL B','OPERACOES DE CREDITO NIVEL C','OPERACOES DE CREDITO NIVEL D','OPERACOES DE CREDITO NIVEL E','OPERACOES DE CREDITO NIVEL F','OPERACOES DE CREDITO NIVEL G','OPERACOES DE CREDITO NIVEL H']\n",
    "dftotal['Descrição_Conta'] = np.select(conditionlist3, choicelist3, default='Not Specified')"
   ]
  },
  {
   "cell_type": "markdown",
   "metadata": {},
   "source": [
    "* Criação do dataframe final, que utiliza os chunks concatenados e os agrupa pela Classe, Competência e as colunas novas de conta, sumarizando o Saldo Devedor Total.\n",
    "\n",
    "* Criação da Chave."
   ]
  },
  {
   "cell_type": "code",
   "execution_count": null,
   "metadata": {},
   "outputs": [],
   "source": [
    "dfgeral = dftotal.groupby(['Doc3040_DtBase','Op_ClassOp','Conta_Desc','Conta','Descrição_Conta'])['Saldo_Devedor_Total'].sum().reset_index()\n",
    "dfgeral['Chave']=dfgeral['Op_ClassOp']+dfgeral['Doc3040_DtBase']"
   ]
  },
  {
   "cell_type": "markdown",
   "metadata": {},
   "source": [
    "* Criação do dataframe que une o balancete com a base CADOC 3040, unidos pela chaves criadas."
   ]
  },
  {
   "cell_type": "code",
   "execution_count": null,
   "metadata": {},
   "outputs": [],
   "source": [
    "result = pd.merge(dfbalan2, dfgeral, on=['Chave','Chave'], how='outer')\n"
   ]
  },
  {
   "cell_type": "markdown",
   "metadata": {},
   "source": [
    "* Cálculo da diferença absoluta e percentual entre os saldos devedores totais.\n",
    "* Criação da coluna de condição dos 5%"
   ]
  },
  {
   "cell_type": "code",
   "execution_count": null,
   "metadata": {},
   "outputs": [],
   "source": [
    "result['Diferenca_CADOC_Balancete']=result['Saldo_Devedor_Total']-result['Saldo']\n",
    "result['Diferenca_Saldo_Percentual']=(result['Saldo_Devedor_Total']-result['Saldo'])*100/result['Saldo']\n",
    "result['Diferença_Acima_5%'] = ['Sim' if x > 5 else 'Não' for x in result['Diferenca_Saldo_Percentual']]\n"
   ]
  },
  {
   "cell_type": "markdown",
   "metadata": {},
   "source": [
    "* Alteração do nome das colunas, para o resultado final.\n",
    "* Retirada das colunas criadas para uso na chave."
   ]
  },
  {
   "cell_type": "code",
   "execution_count": null,
   "metadata": {},
   "outputs": [],
   "source": [
    "result=result.rename({'Saldo': 'Saldo_Balancete', 'Saldo_Devedor_Total': 'Saldo_Devedor_CADOC'}, axis=1, inplace=False)\n",
    "result=result.drop(['Conta_Desc', 'Chave', 'Conta'], axis=1, inplace=False)"
   ]
  },
  {
   "cell_type": "markdown",
   "metadata": {},
   "source": [
    "* Alterção na ordem de visualização das colunas.\n",
    "* Transformação do resultado final para o formato .csv"
   ]
  },
  {
   "cell_type": "code",
   "execution_count": null,
   "metadata": {},
   "outputs": [],
   "source": [
    "result = result[['Doc3040_DtBase','Op_ClassOp','Descrição_Conta','Saldo_Devedor_CADOC','Saldo_Balancete','Diferenca_CADOC_Balancete','Diferenca_Saldo_Percentual','Diferença_Acima_5%']]\n",
    "result.to_csv('TesteTeste.csv',sep = ';', index=False)"
   ]
  }
 ],
 "metadata": {
  "kernelspec": {
   "display_name": "Python 3",
   "language": "python",
   "name": "python3"
  },
  "language_info": {
   "codemirror_mode": {
    "name": "ipython",
    "version": 3
   },
   "file_extension": ".py",
   "mimetype": "text/x-python",
   "name": "python",
   "nbconvert_exporter": "python",
   "pygments_lexer": "ipython3",
   "version": "3.8.5"
  }
 },
 "nbformat": 4,
 "nbformat_minor": 4
}
